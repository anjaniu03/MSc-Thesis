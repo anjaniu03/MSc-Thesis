{
  "nbformat": 4,
  "nbformat_minor": 0,
  "metadata": {
    "colab": {
      "provenance": []
    },
    "kernelspec": {
      "name": "python3",
      "display_name": "Python 3"
    },
    "language_info": {
      "name": "python"
    }
  },
  "cells": [
    {
      "cell_type": "code",
      "execution_count": 25,
      "metadata": {
        "id": "S_zX7aXprRyD"
      },
      "outputs": [],
      "source": [
        "import pandas as pd\n",
        "import numpy as np\n",
        "from datetime import datetime"
      ]
    },
    {
      "cell_type": "code",
      "source": [
        "catalog = pd.read_csv('jma 3.csv')\n",
        "catalog = catalog[['time','magnitude','depth','longitude','latitude','x_utm','y_utm']].copy()\n",
        "catalog.sort_values('time', inplace=True)\n",
        "catalog.head()"
      ],
      "metadata": {
        "colab": {
          "base_uri": "https://localhost:8080/",
          "height": 262
        },
        "id": "RdwCUmvurWEx",
        "outputId": "840bdd6e-23d6-4bbc-ef48-df55ae266017"
      },
      "execution_count": 26,
      "outputs": [
        {
          "output_type": "stream",
          "name": "stderr",
          "text": [
            "/tmp/ipython-input-4154466187.py:1: DtypeWarning: Columns (20,24,25,26) have mixed types. Specify dtype option on import or set low_memory=False.\n",
            "  catalog = pd.read_csv('jma 3.csv')\n"
          ]
        },
        {
          "output_type": "execute_result",
          "data": {
            "text/plain": [
              "           time  magnitude  depth   longitude   latitude          x_utm  \\\n",
              "0 -1.609166e+09        5.2   15.0  144.503167  41.703333  791793.764897   \n",
              "1 -1.608620e+09        4.0   39.0  140.341833  35.262500  440434.936341   \n",
              "2 -1.608461e+09        5.1   36.0  137.888833  35.372833  217649.150338   \n",
              "3 -1.607588e+09        4.6  129.0  142.492500  29.215500  645377.203408   \n",
              "4 -1.607575e+09        3.7   90.0  140.822500  36.635333  484433.561984   \n",
              "\n",
              "          y_utm  \n",
              "0  4.622020e+06  \n",
              "1  3.901597e+06  \n",
              "2  3.918079e+06  \n",
              "3  3.232027e+06  \n",
              "4  4.053680e+06  "
            ],
            "text/html": [
              "\n",
              "  <div id=\"df-ef9618af-cdc2-406e-ae5f-c147fe87e974\" class=\"colab-df-container\">\n",
              "    <div>\n",
              "<style scoped>\n",
              "    .dataframe tbody tr th:only-of-type {\n",
              "        vertical-align: middle;\n",
              "    }\n",
              "\n",
              "    .dataframe tbody tr th {\n",
              "        vertical-align: top;\n",
              "    }\n",
              "\n",
              "    .dataframe thead th {\n",
              "        text-align: right;\n",
              "    }\n",
              "</style>\n",
              "<table border=\"1\" class=\"dataframe\">\n",
              "  <thead>\n",
              "    <tr style=\"text-align: right;\">\n",
              "      <th></th>\n",
              "      <th>time</th>\n",
              "      <th>magnitude</th>\n",
              "      <th>depth</th>\n",
              "      <th>longitude</th>\n",
              "      <th>latitude</th>\n",
              "      <th>x_utm</th>\n",
              "      <th>y_utm</th>\n",
              "    </tr>\n",
              "  </thead>\n",
              "  <tbody>\n",
              "    <tr>\n",
              "      <th>0</th>\n",
              "      <td>-1.609166e+09</td>\n",
              "      <td>5.2</td>\n",
              "      <td>15.0</td>\n",
              "      <td>144.503167</td>\n",
              "      <td>41.703333</td>\n",
              "      <td>791793.764897</td>\n",
              "      <td>4.622020e+06</td>\n",
              "    </tr>\n",
              "    <tr>\n",
              "      <th>1</th>\n",
              "      <td>-1.608620e+09</td>\n",
              "      <td>4.0</td>\n",
              "      <td>39.0</td>\n",
              "      <td>140.341833</td>\n",
              "      <td>35.262500</td>\n",
              "      <td>440434.936341</td>\n",
              "      <td>3.901597e+06</td>\n",
              "    </tr>\n",
              "    <tr>\n",
              "      <th>2</th>\n",
              "      <td>-1.608461e+09</td>\n",
              "      <td>5.1</td>\n",
              "      <td>36.0</td>\n",
              "      <td>137.888833</td>\n",
              "      <td>35.372833</td>\n",
              "      <td>217649.150338</td>\n",
              "      <td>3.918079e+06</td>\n",
              "    </tr>\n",
              "    <tr>\n",
              "      <th>3</th>\n",
              "      <td>-1.607588e+09</td>\n",
              "      <td>4.6</td>\n",
              "      <td>129.0</td>\n",
              "      <td>142.492500</td>\n",
              "      <td>29.215500</td>\n",
              "      <td>645377.203408</td>\n",
              "      <td>3.232027e+06</td>\n",
              "    </tr>\n",
              "    <tr>\n",
              "      <th>4</th>\n",
              "      <td>-1.607575e+09</td>\n",
              "      <td>3.7</td>\n",
              "      <td>90.0</td>\n",
              "      <td>140.822500</td>\n",
              "      <td>36.635333</td>\n",
              "      <td>484433.561984</td>\n",
              "      <td>4.053680e+06</td>\n",
              "    </tr>\n",
              "  </tbody>\n",
              "</table>\n",
              "</div>\n",
              "    <div class=\"colab-df-buttons\">\n",
              "\n",
              "  <div class=\"colab-df-container\">\n",
              "    <button class=\"colab-df-convert\" onclick=\"convertToInteractive('df-ef9618af-cdc2-406e-ae5f-c147fe87e974')\"\n",
              "            title=\"Convert this dataframe to an interactive table.\"\n",
              "            style=\"display:none;\">\n",
              "\n",
              "  <svg xmlns=\"http://www.w3.org/2000/svg\" height=\"24px\" viewBox=\"0 -960 960 960\">\n",
              "    <path d=\"M120-120v-720h720v720H120Zm60-500h600v-160H180v160Zm220 220h160v-160H400v160Zm0 220h160v-160H400v160ZM180-400h160v-160H180v160Zm440 0h160v-160H620v160ZM180-180h160v-160H180v160Zm440 0h160v-160H620v160Z\"/>\n",
              "  </svg>\n",
              "    </button>\n",
              "\n",
              "  <style>\n",
              "    .colab-df-container {\n",
              "      display:flex;\n",
              "      gap: 12px;\n",
              "    }\n",
              "\n",
              "    .colab-df-convert {\n",
              "      background-color: #E8F0FE;\n",
              "      border: none;\n",
              "      border-radius: 50%;\n",
              "      cursor: pointer;\n",
              "      display: none;\n",
              "      fill: #1967D2;\n",
              "      height: 32px;\n",
              "      padding: 0 0 0 0;\n",
              "      width: 32px;\n",
              "    }\n",
              "\n",
              "    .colab-df-convert:hover {\n",
              "      background-color: #E2EBFA;\n",
              "      box-shadow: 0px 1px 2px rgba(60, 64, 67, 0.3), 0px 1px 3px 1px rgba(60, 64, 67, 0.15);\n",
              "      fill: #174EA6;\n",
              "    }\n",
              "\n",
              "    .colab-df-buttons div {\n",
              "      margin-bottom: 4px;\n",
              "    }\n",
              "\n",
              "    [theme=dark] .colab-df-convert {\n",
              "      background-color: #3B4455;\n",
              "      fill: #D2E3FC;\n",
              "    }\n",
              "\n",
              "    [theme=dark] .colab-df-convert:hover {\n",
              "      background-color: #434B5C;\n",
              "      box-shadow: 0px 1px 3px 1px rgba(0, 0, 0, 0.15);\n",
              "      filter: drop-shadow(0px 1px 2px rgba(0, 0, 0, 0.3));\n",
              "      fill: #FFFFFF;\n",
              "    }\n",
              "  </style>\n",
              "\n",
              "    <script>\n",
              "      const buttonEl =\n",
              "        document.querySelector('#df-ef9618af-cdc2-406e-ae5f-c147fe87e974 button.colab-df-convert');\n",
              "      buttonEl.style.display =\n",
              "        google.colab.kernel.accessAllowed ? 'block' : 'none';\n",
              "\n",
              "      async function convertToInteractive(key) {\n",
              "        const element = document.querySelector('#df-ef9618af-cdc2-406e-ae5f-c147fe87e974');\n",
              "        const dataTable =\n",
              "          await google.colab.kernel.invokeFunction('convertToInteractive',\n",
              "                                                    [key], {});\n",
              "        if (!dataTable) return;\n",
              "\n",
              "        const docLinkHtml = 'Like what you see? Visit the ' +\n",
              "          '<a target=\"_blank\" href=https://colab.research.google.com/notebooks/data_table.ipynb>data table notebook</a>'\n",
              "          + ' to learn more about interactive tables.';\n",
              "        element.innerHTML = '';\n",
              "        dataTable['output_type'] = 'display_data';\n",
              "        await google.colab.output.renderOutput(dataTable, element);\n",
              "        const docLink = document.createElement('div');\n",
              "        docLink.innerHTML = docLinkHtml;\n",
              "        element.appendChild(docLink);\n",
              "      }\n",
              "    </script>\n",
              "  </div>\n",
              "\n",
              "\n",
              "    <div id=\"df-31fadc8e-2eb1-40ac-a5ea-cd6ea5cf616c\">\n",
              "      <button class=\"colab-df-quickchart\" onclick=\"quickchart('df-31fadc8e-2eb1-40ac-a5ea-cd6ea5cf616c')\"\n",
              "                title=\"Suggest charts\"\n",
              "                style=\"display:none;\">\n",
              "\n",
              "<svg xmlns=\"http://www.w3.org/2000/svg\" height=\"24px\"viewBox=\"0 0 24 24\"\n",
              "     width=\"24px\">\n",
              "    <g>\n",
              "        <path d=\"M19 3H5c-1.1 0-2 .9-2 2v14c0 1.1.9 2 2 2h14c1.1 0 2-.9 2-2V5c0-1.1-.9-2-2-2zM9 17H7v-7h2v7zm4 0h-2V7h2v10zm4 0h-2v-4h2v4z\"/>\n",
              "    </g>\n",
              "</svg>\n",
              "      </button>\n",
              "\n",
              "<style>\n",
              "  .colab-df-quickchart {\n",
              "      --bg-color: #E8F0FE;\n",
              "      --fill-color: #1967D2;\n",
              "      --hover-bg-color: #E2EBFA;\n",
              "      --hover-fill-color: #174EA6;\n",
              "      --disabled-fill-color: #AAA;\n",
              "      --disabled-bg-color: #DDD;\n",
              "  }\n",
              "\n",
              "  [theme=dark] .colab-df-quickchart {\n",
              "      --bg-color: #3B4455;\n",
              "      --fill-color: #D2E3FC;\n",
              "      --hover-bg-color: #434B5C;\n",
              "      --hover-fill-color: #FFFFFF;\n",
              "      --disabled-bg-color: #3B4455;\n",
              "      --disabled-fill-color: #666;\n",
              "  }\n",
              "\n",
              "  .colab-df-quickchart {\n",
              "    background-color: var(--bg-color);\n",
              "    border: none;\n",
              "    border-radius: 50%;\n",
              "    cursor: pointer;\n",
              "    display: none;\n",
              "    fill: var(--fill-color);\n",
              "    height: 32px;\n",
              "    padding: 0;\n",
              "    width: 32px;\n",
              "  }\n",
              "\n",
              "  .colab-df-quickchart:hover {\n",
              "    background-color: var(--hover-bg-color);\n",
              "    box-shadow: 0 1px 2px rgba(60, 64, 67, 0.3), 0 1px 3px 1px rgba(60, 64, 67, 0.15);\n",
              "    fill: var(--button-hover-fill-color);\n",
              "  }\n",
              "\n",
              "  .colab-df-quickchart-complete:disabled,\n",
              "  .colab-df-quickchart-complete:disabled:hover {\n",
              "    background-color: var(--disabled-bg-color);\n",
              "    fill: var(--disabled-fill-color);\n",
              "    box-shadow: none;\n",
              "  }\n",
              "\n",
              "  .colab-df-spinner {\n",
              "    border: 2px solid var(--fill-color);\n",
              "    border-color: transparent;\n",
              "    border-bottom-color: var(--fill-color);\n",
              "    animation:\n",
              "      spin 1s steps(1) infinite;\n",
              "  }\n",
              "\n",
              "  @keyframes spin {\n",
              "    0% {\n",
              "      border-color: transparent;\n",
              "      border-bottom-color: var(--fill-color);\n",
              "      border-left-color: var(--fill-color);\n",
              "    }\n",
              "    20% {\n",
              "      border-color: transparent;\n",
              "      border-left-color: var(--fill-color);\n",
              "      border-top-color: var(--fill-color);\n",
              "    }\n",
              "    30% {\n",
              "      border-color: transparent;\n",
              "      border-left-color: var(--fill-color);\n",
              "      border-top-color: var(--fill-color);\n",
              "      border-right-color: var(--fill-color);\n",
              "    }\n",
              "    40% {\n",
              "      border-color: transparent;\n",
              "      border-right-color: var(--fill-color);\n",
              "      border-top-color: var(--fill-color);\n",
              "    }\n",
              "    60% {\n",
              "      border-color: transparent;\n",
              "      border-right-color: var(--fill-color);\n",
              "    }\n",
              "    80% {\n",
              "      border-color: transparent;\n",
              "      border-right-color: var(--fill-color);\n",
              "      border-bottom-color: var(--fill-color);\n",
              "    }\n",
              "    90% {\n",
              "      border-color: transparent;\n",
              "      border-bottom-color: var(--fill-color);\n",
              "    }\n",
              "  }\n",
              "</style>\n",
              "\n",
              "      <script>\n",
              "        async function quickchart(key) {\n",
              "          const quickchartButtonEl =\n",
              "            document.querySelector('#' + key + ' button');\n",
              "          quickchartButtonEl.disabled = true;  // To prevent multiple clicks.\n",
              "          quickchartButtonEl.classList.add('colab-df-spinner');\n",
              "          try {\n",
              "            const charts = await google.colab.kernel.invokeFunction(\n",
              "                'suggestCharts', [key], {});\n",
              "          } catch (error) {\n",
              "            console.error('Error during call to suggestCharts:', error);\n",
              "          }\n",
              "          quickchartButtonEl.classList.remove('colab-df-spinner');\n",
              "          quickchartButtonEl.classList.add('colab-df-quickchart-complete');\n",
              "        }\n",
              "        (() => {\n",
              "          let quickchartButtonEl =\n",
              "            document.querySelector('#df-31fadc8e-2eb1-40ac-a5ea-cd6ea5cf616c button');\n",
              "          quickchartButtonEl.style.display =\n",
              "            google.colab.kernel.accessAllowed ? 'block' : 'none';\n",
              "        })();\n",
              "      </script>\n",
              "    </div>\n",
              "\n",
              "    </div>\n",
              "  </div>\n"
            ],
            "application/vnd.google.colaboratory.intrinsic+json": {
              "type": "dataframe",
              "variable_name": "catalog"
            }
          },
          "metadata": {},
          "execution_count": 26
        }
      ]
    },
    {
      "cell_type": "code",
      "source": [
        "# Train: 1979 - 1995\n",
        "train_start_time = pd.Timestamp('1979-01-01')\n",
        "# Validation: 1996 - 2003\n",
        "validation_start_time = pd.Timestamp('1996-01-01')\n",
        "# Test: 2004 - 2011\n",
        "test_start_time = pd.Timestamp('2004-01-01')\n",
        "test_end_time = pd.Timestamp('2012-01-01')"
      ],
      "metadata": {
        "id": "F6KEvqjyrYoj"
      },
      "execution_count": 27,
      "outputs": []
    },
    {
      "cell_type": "code",
      "source": [
        "# Training + validation period\n",
        "train_val_start = train_start_time\n",
        "train_val_end = test_start_time"
      ],
      "metadata": {
        "id": "yJJ6ZdqKwmhq"
      },
      "execution_count": 28,
      "outputs": []
    },
    {
      "cell_type": "code",
      "source": [
        "print(\"\\nPoisson Model for Japan - Region A\")"
      ],
      "metadata": {
        "colab": {
          "base_uri": "https://localhost:8080/"
        },
        "id": "p7tF7NcP1x_m",
        "outputId": "2527ec32-f79f-4f24-aca1-0eeece0db7aa"
      },
      "execution_count": 29,
      "outputs": [
        {
          "output_type": "stream",
          "name": "stdout",
          "text": [
            "\n",
            "Poisson Model for Japan - Region A\n"
          ]
        }
      ]
    },
    {
      "cell_type": "code",
      "source": [
        "# Regional parameters for Region A\n",
        "target_magnitude_A = 4.5\n",
        "lng_range_A = (141, 145)\n",
        "lat_range_A = (36, 42)\n",
        "target_depth_A = 100\n",
        "\n",
        "regional_catalog_A = catalog[\n",
        "    (catalog['longitude'] >= lng_range_A[0]) &\n",
        "    (catalog['longitude'] <= lng_range_A[1]) &\n",
        "    (catalog['latitude'] >= lat_range_A[0]) &\n",
        "    (catalog['latitude'] <= lat_range_A[1]) &\n",
        "    (catalog['depth'] <= target_depth_A) &\n",
        "    (catalog['magnitude'] >= target_magnitude_A)\n",
        "]"
      ],
      "metadata": {
        "id": "PgJJloT5ud7s"
      },
      "execution_count": 30,
      "outputs": []
    },
    {
      "cell_type": "code",
      "source": [
        "# Number of earthquakes in training + validation period\n",
        "n_train_val_A = len(regional_catalog_A[(regional_catalog_A['time'] >= train_val_start.timestamp()) &\n",
        "                                       (regional_catalog_A['time'] < train_val_end.timestamp())])\n",
        "\n",
        "# Total duration of training + validation period in days\n",
        "T_train_val_A = (test_start_time - train_start_time).total_seconds() / (24 * 3600)\n",
        "\n",
        "# Maximum Likelihood Estimate of the rate\n",
        "lambda_hat_A = n_train_val_A / (T_train_val_A)"
      ],
      "metadata": {
        "id": "yh6HwnpO1e_y"
      },
      "execution_count": 31,
      "outputs": []
    },
    {
      "cell_type": "code",
      "source": [
        "print(f\"Events in training + validation period (n_train_val_A): {n_train_val_A}\")\n",
        "print(f\"Duration of training + validation period (T_train_val_A): {T_train_val_A:.0f} days\")\n",
        "print(f\"Estimated Poisson Rate (lambda_hat_A): {lambda_hat_A:.4f} earthquakes/day\")"
      ],
      "metadata": {
        "colab": {
          "base_uri": "https://localhost:8080/"
        },
        "id": "oh-f0JWx1lct",
        "outputId": "4c3b0561-3add-4106-810f-ff596d257f74"
      },
      "execution_count": 32,
      "outputs": [
        {
          "output_type": "stream",
          "name": "stdout",
          "text": [
            "Events in training + validation period (n_train_val_A): 1755\n",
            "Duration of training + validation period (T_train_val_A): 9131 days\n",
            "Estimated Poisson Rate (lambda_hat_A): 0.1922 earthquakes/day\n"
          ]
        }
      ]
    },
    {
      "cell_type": "code",
      "source": [
        "# Number of earthquakes in testing period\n",
        "n_test_A = len(regional_catalog_A[(regional_catalog_A['time'] >= test_start_time.timestamp()) &\n",
        "                                  (regional_catalog_A['time'] < test_end_time.timestamp())])\n",
        "\n",
        "# Total duration of testing period in days\n",
        "T_test_A = (test_end_time - test_start_time).total_seconds() / (24 * 3600)\n",
        "\n",
        "log_likelihood_test_A = (n_test_A * np.log(lambda_hat_A)) - (lambda_hat_A * T_test_A)"
      ],
      "metadata": {
        "id": "hbyBR7ZT1mja"
      },
      "execution_count": 33,
      "outputs": []
    },
    {
      "cell_type": "code",
      "source": [
        "print(f\"\\nEvents in testing period (n_test_A): {n_test_A}\")\n",
        "print(f\"Duration of testing period (T_test_A): {T_test_A:.0f} days\")\n",
        "print(f\"Log Likelihood on Test Data: {log_likelihood_test_A:.4f}\")\n",
        "print(f\"Poisson Per-Example Loss (Region A): {(-log_likelihood_test_A / n_test_A):.4f}\") # Negative Log Likelihood"
      ],
      "metadata": {
        "colab": {
          "base_uri": "https://localhost:8080/"
        },
        "id": "QxjdRf9W1r-0",
        "outputId": "f05430d7-42b8-4835-adf4-5db9da5326f9"
      },
      "execution_count": 34,
      "outputs": [
        {
          "output_type": "stream",
          "name": "stdout",
          "text": [
            "\n",
            "Events in testing period (n_test_A): 2151\n",
            "Duration of testing period (T_test_A): 2922 days\n",
            "Log Likelihood on Test Data: -4109.0583\n",
            "Poisson Per-Example Loss (Region A): 1.9103\n"
          ]
        }
      ]
    },
    {
      "cell_type": "code",
      "source": [
        "print(\"\\nPoisson Model for Japan - Region B\")"
      ],
      "metadata": {
        "colab": {
          "base_uri": "https://localhost:8080/"
        },
        "id": "Imds_q8u15gw",
        "outputId": "135dfe7f-3dfc-42ae-ef7d-ed37ada6fc81"
      },
      "execution_count": 35,
      "outputs": [
        {
          "output_type": "stream",
          "name": "stdout",
          "text": [
            "\n",
            "Poisson Model for Japan - Region B\n"
          ]
        }
      ]
    },
    {
      "cell_type": "code",
      "source": [
        "# Regional parameters for Region B\n",
        "target_magnitude_B = 4.5\n",
        "lng_range_B = (145, 154)\n",
        "lat_range_B = (42, 47)\n",
        "target_depth_B = 100\n",
        "\n",
        "regional_catalog_B = catalog[\n",
        "    (catalog['longitude'] >= lng_range_B[0]) &\n",
        "    (catalog['longitude'] <= lng_range_B[1]) &\n",
        "    (catalog['latitude'] >= lat_range_B[0]) &\n",
        "    (catalog['latitude'] <= lat_range_B[1]) &\n",
        "    (catalog['depth'] <= target_depth_B) &\n",
        "    (catalog['magnitude'] >= target_magnitude_B)\n",
        "]"
      ],
      "metadata": {
        "id": "C7mRfY-V15l7"
      },
      "execution_count": 36,
      "outputs": []
    },
    {
      "cell_type": "code",
      "source": [
        "# Number of earthquakes in training + validation period\n",
        "n_train_val_B = len(regional_catalog_B[(regional_catalog_B['time'] >= train_val_start.timestamp()) &\n",
        "                                       (regional_catalog_B['time'] < train_val_end.timestamp())])\n",
        "\n",
        "# Total duration of training + validation period in days\n",
        "T_train_val_B = (test_start_time - train_start_time).total_seconds() / (24 * 3600)\n",
        "\n",
        "# Maximum Likelihood Estimate of the rate\n",
        "lambda_hat_B = n_train_val_B / (T_train_val_B)"
      ],
      "metadata": {
        "id": "xeB6DTBP2BPs"
      },
      "execution_count": 37,
      "outputs": []
    },
    {
      "cell_type": "code",
      "source": [
        "print(f\"Events in training + validation period (n_train_val_B): {n_train_val_B}\")\n",
        "print(f\"Duration of training + validation period (T_train_val_B): {T_train_val_B:.0f} days\")\n",
        "print(f\"Estimated Poisson Rate (lambda_hat_B): {lambda_hat_B:.4f} earthquakes/day\")"
      ],
      "metadata": {
        "colab": {
          "base_uri": "https://localhost:8080/"
        },
        "id": "_-oNmk2s2HDp",
        "outputId": "f98cfc03-101f-44be-83cc-2865b99ee311"
      },
      "execution_count": 38,
      "outputs": [
        {
          "output_type": "stream",
          "name": "stdout",
          "text": [
            "Events in training + validation period (n_train_val_B): 2924\n",
            "Duration of training + validation period (T_train_val_B): 9131 days\n",
            "Estimated Poisson Rate (lambda_hat_B): 0.3202 earthquakes/day\n"
          ]
        }
      ]
    },
    {
      "cell_type": "code",
      "source": [
        "# Number of earthquakes in testing period\n",
        "n_test_B = len(regional_catalog_B[(regional_catalog_B['time'] >= test_start_time.timestamp()) &\n",
        "                                  (regional_catalog_B['time'] < test_end_time.timestamp())])\n",
        "\n",
        "# Total duration of testing period in days\n",
        "T_test_B = (test_end_time - test_start_time).total_seconds() / (24 * 3600)\n",
        "\n",
        "log_likelihood_test_B = (n_test_B * np.log(lambda_hat_B)) - (lambda_hat_B * T_test_B)"
      ],
      "metadata": {
        "id": "swlWE9qo2Uwi"
      },
      "execution_count": 39,
      "outputs": []
    },
    {
      "cell_type": "code",
      "source": [
        "print(f\"\\nEvents in testing period (n_test_B): {n_test_B}\")\n",
        "print(f\"Duration of testing period (T_test_B): {T_test_B:.0f} days\")\n",
        "print(f\"Log Likelihood on Test Data: {log_likelihood_test_B:.4f}\")\n",
        "print(f\"Poisson Per-Example Loss (Region B): {(-log_likelihood_test_B / n_test_B):.4f}\") # Negative Log Likelihood"
      ],
      "metadata": {
        "colab": {
          "base_uri": "https://localhost:8080/"
        },
        "id": "zxDbshtW2fUA",
        "outputId": "239ae1f9-11a8-4dce-e180-26f24ba73025"
      },
      "execution_count": 40,
      "outputs": [
        {
          "output_type": "stream",
          "name": "stdout",
          "text": [
            "\n",
            "Events in testing period (n_test_B): 1018\n",
            "Duration of testing period (T_test_B): 2922 days\n",
            "Log Likelihood on Test Data: -2094.9253\n",
            "Poisson Per-Example Loss (Region B): 2.0579\n"
          ]
        }
      ]
    },
    {
      "cell_type": "code",
      "source": [
        "print(\"\\nPoisson Model for Japan - Region C\")"
      ],
      "metadata": {
        "colab": {
          "base_uri": "https://localhost:8080/"
        },
        "id": "zgvqkDV82nOt",
        "outputId": "e93b6e6b-257e-4845-b0ff-4b321fb1002d"
      },
      "execution_count": 41,
      "outputs": [
        {
          "output_type": "stream",
          "name": "stdout",
          "text": [
            "\n",
            "Poisson Model for Japan - Region C\n"
          ]
        }
      ]
    },
    {
      "cell_type": "code",
      "source": [
        "# Regional parameters for Region C\n",
        "target_magnitude_C = 5.0\n",
        "lng_range_C = (141, 154)\n",
        "lat_range_C = (36, 47)\n",
        "target_depth_C = 100\n",
        "\n",
        "regional_catalog_C = catalog[\n",
        "    (catalog['longitude'] >= lng_range_C[0]) &\n",
        "    (catalog['longitude'] <= lng_range_C[1]) &\n",
        "    (catalog['latitude'] >= lat_range_C[0]) &\n",
        "    (catalog['latitude'] <= lat_range_C[1]) &\n",
        "    (catalog['depth'] <= target_depth_C) &\n",
        "    (catalog['magnitude'] >= target_magnitude_C)\n",
        "]"
      ],
      "metadata": {
        "id": "CQo0giJK2qE-"
      },
      "execution_count": 42,
      "outputs": []
    },
    {
      "cell_type": "code",
      "source": [
        "# Number of earthquakes in training + validation period\n",
        "n_train_val_C = len(regional_catalog_C[(regional_catalog_C['time'] >= train_val_start.timestamp()) &\n",
        "                                       (regional_catalog_C['time'] < train_val_end.timestamp())])\n",
        "\n",
        "# Total duration of training + validation period in days\n",
        "T_train_val_C = (test_start_time - train_start_time).total_seconds() / (24 * 3600)\n",
        "\n",
        "# Maximum Likelihood Estimate of the rate\n",
        "lambda_hat_C = n_train_val_C / (T_train_val_C)"
      ],
      "metadata": {
        "id": "gVXeBLzT2u-q"
      },
      "execution_count": 43,
      "outputs": []
    },
    {
      "cell_type": "code",
      "source": [
        "print(f\"Events in training + validation period (n_train_val_C): {n_train_val_C}\")\n",
        "print(f\"Duration of training + validation period (T_train_val_C): {T_train_val_C:.0f} days\")\n",
        "print(f\"Estimated Poisson Rate (lambda_hat_C): {lambda_hat_C:.4f} earthquakes/day\")"
      ],
      "metadata": {
        "colab": {
          "base_uri": "https://localhost:8080/"
        },
        "id": "eyqBdps221yZ",
        "outputId": "0012c235-c903-4acd-feaa-cfdb77416ff4"
      },
      "execution_count": 44,
      "outputs": [
        {
          "output_type": "stream",
          "name": "stdout",
          "text": [
            "Events in training + validation period (n_train_val_C): 1956\n",
            "Duration of training + validation period (T_train_val_C): 9131 days\n",
            "Estimated Poisson Rate (lambda_hat_C): 0.2142 earthquakes/day\n"
          ]
        }
      ]
    },
    {
      "cell_type": "code",
      "source": [
        "# Number of earthquakes in testing period\n",
        "n_test_C = len(regional_catalog_C[(regional_catalog_C['time'] >= test_start_time.timestamp()) &\n",
        "                                  (regional_catalog_C['time'] < test_end_time.timestamp())])\n",
        "\n",
        "# Total duration of testing period in days\n",
        "T_test_C = (test_end_time - test_start_time).total_seconds() / (24 * 3600)\n",
        "\n",
        "log_likelihood_test_C = (n_test_C * np.log(lambda_hat_C)) - (lambda_hat_C * T_test_C)"
      ],
      "metadata": {
        "id": "6yjsTGz627nr"
      },
      "execution_count": 45,
      "outputs": []
    },
    {
      "cell_type": "code",
      "source": [
        "print(f\"\\nEvents in testing period (n_test_C): {n_test_C}\")\n",
        "print(f\"Duration of testing period (T_test_C): {T_test_C:.0f} days\")\n",
        "print(f\"Log Likelihood on Test Data: {log_likelihood_test_C:.4f}\")\n",
        "print(f\"Poisson Per-Example Loss (Region C): {(-log_likelihood_test_C / n_test_C):.4f}\") # Negative Log Likelihood"
      ],
      "metadata": {
        "colab": {
          "base_uri": "https://localhost:8080/"
        },
        "id": "U66edhK83EL3",
        "outputId": "4c3397e3-a504-429e-d5bd-57bf81aaf557"
      },
      "execution_count": 46,
      "outputs": [
        {
          "output_type": "stream",
          "name": "stdout",
          "text": [
            "\n",
            "Events in testing period (n_test_C): 1098\n",
            "Duration of testing period (T_test_C): 2922 days\n",
            "Log Likelihood on Test Data: -2317.7066\n",
            "Poisson Per-Example Loss (Region C): 2.1108\n"
          ]
        }
      ]
    }
  ]
}